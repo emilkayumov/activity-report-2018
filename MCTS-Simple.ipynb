{
 "cells": [
  {
   "cell_type": "code",
   "execution_count": null,
   "metadata": {
    "ExecuteTime": {
     "end_time": "2019-05-02T15:22:40.883238Z",
     "start_time": "2019-05-02T15:22:39.910182Z"
    }
   },
   "outputs": [],
   "source": [
    "%reload_ext autoreload\n",
    "%autoreload 2\n",
    "%pylab inline\n",
    "\n",
    "import os\n",
    "import pickle\n",
    "import random\n",
    "from collections import namedtuple\n",
    "from itertools import count\n",
    "\n",
    "import gym\n",
    "import numpy as np\n",
    "import pycuber\n",
    "import torch\n",
    "import torch.nn as nn\n",
    "import torch.nn.functional as F\n",
    "import torch.optim as optim\n",
    "import torchvision.transforms as T\n",
    "import tqdm\n",
    "from gym import spaces\n",
    "from gym.utils import seeding\n",
    "from tensorboardX import SummaryWriter\n",
    "from torch.distributions import Categorical\n",
    "\n",
    "import cube\n",
    "import dqn\n",
    "import solver"
   ]
  },
  {
   "cell_type": "code",
   "execution_count": null,
   "metadata": {
    "ExecuteTime": {
     "end_time": "2019-05-04T08:44:57.703664Z",
     "start_time": "2019-05-04T08:44:57.628956Z"
    }
   },
   "outputs": [],
   "source": [
    "path_weights = 'weights/dqn_steps_10_mean_100_gamma_0.9_batch_512_episodes_100000.pkl'\n",
    "\n",
    "policy = dqn.DQN(n_space=cube.N_SPACE, n_action=cube.N_ACTION)\n",
    "policy.load_state_dict(pickle.load(open(path_weights, 'rb')))\n",
    "\n",
    "test_cube = cube.CubeEnv(steps=5)"
   ]
  },
  {
   "cell_type": "code",
   "execution_count": null,
   "metadata": {
    "ExecuteTime": {
     "end_time": "2019-05-04T08:44:58.336754Z",
     "start_time": "2019-05-04T08:44:58.307021Z"
    }
   },
   "outputs": [],
   "source": [
    "def test_solver(steps, solver, n_iter, time_limit):\n",
    "    success_rate = []\n",
    "    actions_length = []\n",
    "    solve_times = []\n",
    "    \n",
    "    for _ in range(n_iter):\n",
    "        solving_cube = cube.get_shuffled_cube(steps=steps)\n",
    "        start_time = time.time()\n",
    "        is_done, actions, depth, value = \\\n",
    "            solver.solve(solving_cube, time_limit=time_limit)\n",
    "        solve_time = time.time() - start_time\n",
    "        \n",
    "        success_rate.append(is_done)\n",
    "        if is_done:\n",
    "            actions_length.append(len(actions))\n",
    "            solve_times.append(solve_time)\n",
    "            \n",
    "    return np.mean(success_rate), actions_length, solve_times"
   ]
  },
  {
   "cell_type": "code",
   "execution_count": null,
   "metadata": {
    "ExecuteTime": {
     "end_time": "2019-05-04T10:02:19.571337Z",
     "start_time": "2019-05-04T10:02:19.435933Z"
    }
   },
   "outputs": [],
   "source": [
    "greedy = solver.GreedySolver(policy)\n",
    "mcts = solver.SimpleMCTSSolver(policy, tau=1.7)\n",
    "ucb = solver.UCBSolver(policy, value_f, c=3, tau=1.7)"
   ]
  },
  {
   "cell_type": "code",
   "execution_count": null,
   "metadata": {
    "ExecuteTime": {
     "end_time": "2019-05-04T10:02:21.199792Z",
     "start_time": "2019-05-04T10:02:21.165057Z"
    }
   },
   "outputs": [],
   "source": [
    "result = {\n",
    "    'greedy': {},\n",
    "    'naive': {},\n",
    "    'ucb': {}}"
   ]
  },
  {
   "cell_type": "code",
   "execution_count": null,
   "metadata": {
    "ExecuteTime": {
     "start_time": "2019-05-04T10:02:22.974Z"
    }
   },
   "outputs": [
    {
     "name": "stdout",
     "output_type": "stream",
     "text": [
      "6\n",
      "greedy 0.83\n",
      "naive 0.95\n",
      "----------\n",
      "7\n",
      "greedy 0.63\n",
      "naive 0.87\n",
      "----------\n",
      "8\n"
     ]
    }
   ],
   "source": [
    "for steps in range(6, 11):\n",
    "    print(steps)\n",
    "    \n",
    "    success_rate, actions_length, solve_times = \\\n",
    "        test_solver(steps=steps, solver=greedy, n_iter=100, time_limit=30)\n",
    "    result['greedy'][steps] = {\n",
    "        'success_rate': success_rate,\n",
    "        'actions_length': actions_length,\n",
    "        'solve_times': solve_times}    \n",
    "    print('greedy', success_rate)\n",
    "    \n",
    "    success_rate, actions_length, solve_times = \\\n",
    "        test_solver(steps=steps, solver=mcts, n_iter=100, time_limit=30)\n",
    "    result['naive'][steps] = {\n",
    "        'success_rate': success_rate,\n",
    "        'actions_length': actions_length,\n",
    "        'solve_times': solve_times}\n",
    "    print('naive', success_rate)\n",
    "    \n",
    "    success_rate, actions_length, solve_times = \\\n",
    "        test_solver(steps=steps, solver=ucb, n_iter=100, time_limit=30)\n",
    "    result['ucb'][steps] = {\n",
    "        'success_rate': success_rate,\n",
    "        'actions_length': actions_length,\n",
    "        'solve_times': solve_times}\n",
    "    print('ucb', success_rate)\n",
    "    \n",
    "    print('-' * 10)"
   ]
  },
  {
   "cell_type": "code",
   "execution_count": null,
   "metadata": {},
   "outputs": [],
   "source": []
  }
 ],
 "metadata": {
  "kernelspec": {
   "display_name": "Python 3",
   "language": "python",
   "name": "python3"
  },
  "language_info": {
   "codemirror_mode": {
    "name": "ipython",
    "version": 3
   },
   "file_extension": ".py",
   "mimetype": "text/x-python",
   "name": "python",
   "nbconvert_exporter": "python",
   "pygments_lexer": "ipython3",
   "version": "3.5.2"
  },
  "toc": {
   "base_numbering": 1,
   "nav_menu": {},
   "number_sections": true,
   "sideBar": true,
   "skip_h1_title": false,
   "title_cell": "Table of Contents",
   "title_sidebar": "Contents",
   "toc_cell": false,
   "toc_position": {},
   "toc_section_display": true,
   "toc_window_display": false
  },
  "varInspector": {
   "cols": {
    "lenName": 16,
    "lenType": 16,
    "lenVar": 40
   },
   "kernels_config": {
    "python": {
     "delete_cmd_postfix": "",
     "delete_cmd_prefix": "del ",
     "library": "var_list.py",
     "varRefreshCmd": "print(var_dic_list())"
    },
    "r": {
     "delete_cmd_postfix": ") ",
     "delete_cmd_prefix": "rm(",
     "library": "var_list.r",
     "varRefreshCmd": "cat(var_dic_list()) "
    }
   },
   "types_to_exclude": [
    "module",
    "function",
    "builtin_function_or_method",
    "instance",
    "_Feature"
   ],
   "window_display": false
  }
 },
 "nbformat": 4,
 "nbformat_minor": 2
}
