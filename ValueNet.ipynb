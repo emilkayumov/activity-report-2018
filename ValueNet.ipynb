{
 "cells": [
  {
   "cell_type": "code",
   "execution_count": null,
   "metadata": {},
   "outputs": [],
   "source": [
    "%reload_ext autoreload\n",
    "%autoreload 2\n",
    "%pylab inline\n",
    "\n",
    "import os\n",
    "import pickle\n",
    "import random\n",
    "from collections import namedtuple\n",
    "from itertools import count\n",
    "\n",
    "import gym\n",
    "import numpy as np\n",
    "import pycuber\n",
    "import torch\n",
    "import torch.nn as nn\n",
    "import torch.nn.functional as F\n",
    "import torch.optim as optim\n",
    "import torchvision.transforms as T\n",
    "from gym import spaces\n",
    "from gym.utils import seeding\n",
    "from tensorboardX import SummaryWriter\n",
    "from torch.distributions import Categorical\n",
    "\n",
    "import cube\n",
    "import dqn\n",
    "import solver"
   ]
  },
  {
   "cell_type": "code",
   "execution_count": null,
   "metadata": {},
   "outputs": [],
   "source": [
    "ValueTransition = namedtuple('Transition', ('state', 'value'))\n",
    "\n",
    "class ValueMemory(object):\n",
    "    def __init__(self, capacity):\n",
    "        self.capacity = capacity\n",
    "        self.memory = []\n",
    "        self.position = 0\n",
    "\n",
    "    def push(self, *args):\n",
    "        if len(self.memory) < self.capacity:\n",
    "            self.memory.append(None)\n",
    "        self.memory[self.position] = ValueTransition(*args)\n",
    "        self.position = (self.position + 1) % self.capacity\n",
    "\n",
    "    def sample(self, batch_size):\n",
    "        return random.sample(self.memory, batch_size)\n",
    "\n",
    "    def __len__(self):\n",
    "        return len(self.memory)"
   ]
  },
  {
   "cell_type": "code",
   "execution_count": null,
   "metadata": {},
   "outputs": [],
   "source": []
  },
  {
   "cell_type": "code",
   "execution_count": null,
   "metadata": {},
   "outputs": [],
   "source": [
    "max_steps = 10\n",
    "value_memory = ValueMemory(100000)\n",
    "\n",
    "while len(value_memory) < value_memory.capacity:    \n",
    "    shuffle_cube = pycuber.Cube()\n",
    "    for value in range(0, max_steps + 1):\n",
    "        shuffle_cube.perform_step(\n",
    "            cube.ACTIONS[np.random.randint(cube.N_ACTION)])\n",
    "        observation = cube.get_observation(cube.get_state(shuffle_cube))\n",
    "        value_memory.push(\n",
    "            observation.view(1, -1),\n",
    "            torch.FloatTensor([1 / (value + 1)]))"
   ]
  },
  {
   "cell_type": "code",
   "execution_count": null,
   "metadata": {},
   "outputs": [],
   "source": [
    "def optimize_model():\n",
    "    transitions = value_memory.sample(BATCH_SIZE)\n",
    "    batch = ValueTransition(*zip(*transitions))\n",
    "    \n",
    "    state_batch = torch.cat(batch.state)\n",
    "    value_batch = torch.cat(batch.value)\n",
    "    \n",
    "    state_values = value_net(state_batch)\n",
    "    loss = F.l1_loss(state_values, value_batch)\n",
    "\n",
    "    optimizer.zero_grad()\n",
    "    loss.backward()\n",
    "    optimizer.step()\n",
    "    \n",
    "    writer.add_scalar('value_network/train_loss', loss.detach(), steps_done)"
   ]
  },
  {
   "cell_type": "code",
   "execution_count": null,
   "metadata": {},
   "outputs": [],
   "source": [
    "def train(num_steps):\n",
    "    global steps_done\n",
    "    \n",
    "    for i_steps in range(num_steps):\n",
    "        optimize_model()\n",
    "        steps_done += 1"
   ]
  },
  {
   "cell_type": "code",
   "execution_count": null,
   "metadata": {},
   "outputs": [],
   "source": [
    "BATCH_SIZE = 512\n",
    "\n",
    "value_net = dqn.ValueNetwork(cube.N_SPACE)\n",
    "optimizer = optim.Adam(value_net.parameters())\n",
    "\n",
    "steps_done = 0\n",
    "\n",
    "writer = SummaryWriter(log_dir='logs/value_net_test_ratio')"
   ]
  },
  {
   "cell_type": "code",
   "execution_count": null,
   "metadata": {},
   "outputs": [],
   "source": [
    "train(10000)"
   ]
  },
  {
   "cell_type": "code",
   "execution_count": 24,
   "metadata": {},
   "outputs": [
    {
     "name": "stdout",
     "output_type": "stream",
     "text": [
      "0 5.933557181326069\n",
      "1 5.9232645781105235\n",
      "2 5.934468073064788\n",
      "3 5.927142692612876\n",
      "4 5.94275974355464\n",
      "5 5.939015692594672\n",
      "6 5.9441035770716875\n",
      "7 5.941136163478472\n",
      "8 5.939638059182667\n",
      "9 5.941136163478472\n",
      "10 5.939265885105873\n",
      "11 5.9307795346729355\n",
      "12 5.935516259353284\n",
      "13 5.943061829434869\n",
      "14 5.947660587116977\n",
      "15 5.941913119454486\n"
     ]
    }
   ],
   "source": [
    "for i in range(16):\n",
    "    shuffle_cube.perform_step(\n",
    "        cube.ACTIONS[np.random.randint(cube.N_ACTION)])\n",
    "    observation = cube.get_observation(cube.get_state(shuffle_cube))\n",
    "    print('{} {}'.format(i, 1 / float(value_net(observation).detach())))"
   ]
  },
  {
   "cell_type": "code",
   "execution_count": null,
   "metadata": {},
   "outputs": [],
   "source": []
  },
  {
   "cell_type": "code",
   "execution_count": null,
   "metadata": {},
   "outputs": [],
   "source": [
    "def get_value(shuffle_cube):\n",
    "    return np.mean(cube.get_state(shuffle_cube) == cube.FINAL_STATE)"
   ]
  },
  {
   "cell_type": "code",
   "execution_count": null,
   "metadata": {},
   "outputs": [],
   "source": [
    "shuffle_cube = pycuber.Cube()\n",
    "shuffle_cube"
   ]
  },
  {
   "cell_type": "code",
   "execution_count": 31,
   "metadata": {},
   "outputs": [
    {
     "name": "stdout",
     "output_type": "stream",
     "text": [
      "0 0.7777777777777778\n",
      "1 1.0\n",
      "2 0.7777777777777778\n",
      "3 0.5925925925925926\n",
      "4 0.4444444444444444\n",
      "5 0.3888888888888889\n",
      "6 0.48148148148148145\n",
      "7 0.4444444444444444\n",
      "8 0.42592592592592593\n",
      "9 0.37037037037037035\n",
      "10 0.3333333333333333\n",
      "11 0.37037037037037035\n",
      "12 0.3333333333333333\n",
      "13 0.35185185185185186\n",
      "14 0.25925925925925924\n",
      "15 0.25925925925925924\n"
     ]
    }
   ],
   "source": [
    "for i in range(20):\n",
    "    shuffle_cube.perform_step(\n",
    "        cube.ACTIONS[np.random.randint(cube.N_ACTION)])\n",
    "    print('{} {}'.format(i, get_value(shuffle_cube)))"
   ]
  },
  {
   "cell_type": "code",
   "execution_count": 32,
   "metadata": {},
   "outputs": [],
   "source": [
    "values = []\n",
    "for _ in range(100):\n",
    "    shuffle_cube = pycuber.Cube()\n",
    "    cube_values = []\n",
    "    for _ in range(20):\n",
    "        shuffle_cube.perform_step(\n",
    "            cube.ACTIONS[np.random.randint(cube.N_ACTION)])\n",
    "        cube_values.append(get_value(shuffle_cube))\n",
    "    values.append(cube_values)"
   ]
  },
  {
   "cell_type": "code",
   "execution_count": 33,
   "metadata": {},
   "outputs": [],
   "source": [
    "values = np.array(values)"
   ]
  },
  {
   "cell_type": "code",
   "execution_count": 41,
   "metadata": {},
   "outputs": [
    {
     "data": {
      "text/plain": [
       "[<matplotlib.lines.Line2D at 0x7fbf3db37588>]"
      ]
     },
     "execution_count": 41,
     "metadata": {},
     "output_type": "execute_result"
    },
    {
     "data": {
      "image/png": "[encoded data removed]",
      "text/plain": [
       "<Figure size 432x288 with 1 Axes>"
      ]
     },
     "metadata": {
      "needs_background": "light"
     },
     "output_type": "display_data"
    }
   ],
   "source": [
    "plt.plot(values.mean(axis=0))"
   ]
  },
  {
   "cell_type": "code",
   "execution_count": null,
   "metadata": {},
   "outputs": [],
   "source": []
  },
  {
   "cell_type": "code",
   "execution_count": 45,
   "metadata": {},
   "outputs": [],
   "source": [
    "values = []\n",
    "for _ in range(100):\n",
    "    shuffle_cube = pycuber.Cube()\n",
    "    cube_values = []\n",
    "    for _ in range(20):\n",
    "        shuffle_cube.perform_step(\n",
    "            cube.ACTIONS[np.random.randint(cube.N_ACTION)])\n",
    "        observation = cube.get_observation(cube.get_state(shuffle_cube))\n",
    "        cube_values.append(float(value_net(observation).detach()))\n",
    "    values.append(cube_values)"
   ]
  },
  {
   "cell_type": "code",
   "execution_count": 46,
   "metadata": {},
   "outputs": [],
   "source": [
    "values = np.array(values)"
   ]
  },
  {
   "cell_type": "code",
   "execution_count": 47,
   "metadata": {},
   "outputs": [
    {
     "data": {
      "text/plain": [
       "[<matplotlib.lines.Line2D at 0x7fbf3df23f98>]"
      ]
     },
     "execution_count": 47,
     "metadata": {},
     "output_type": "execute_result"
    },
    {
     "data": {
      "image/png": "[encoded data removed]",
      "text/plain": [
       "<Figure size 432x288 with 1 Axes>"
      ]
     },
     "metadata": {
      "needs_background": "light"
     },
     "output_type": "display_data"
    }
   ],
   "source": [
    "plt.plot(values.mean(axis=0))"
   ]
  },
  {
   "cell_type": "code",
   "execution_count": null,
   "metadata": {},
   "outputs": [],
   "source": []
  }
 ],
 "metadata": {
  "kernelspec": {
   "display_name": "Python 3",
   "language": "python",
   "name": "python3"
  },
  "language_info": {
   "codemirror_mode": {
    "name": "ipython",
    "version": 3
   },
   "file_extension": ".py",
   "mimetype": "text/x-python",
   "name": "python",
   "nbconvert_exporter": "python",
   "pygments_lexer": "ipython3",
   "version": "3.5.2"
  },
  "toc": {
   "base_numbering": 1,
   "nav_menu": {},
   "number_sections": true,
   "sideBar": true,
   "skip_h1_title": false,
   "title_cell": "Table of Contents",
   "title_sidebar": "Contents",
   "toc_cell": false,
   "toc_position": {},
   "toc_section_display": true,
   "toc_window_display": false
  },
  "varInspector": {
   "cols": {
    "lenName": 16,
    "lenType": 16,
    "lenVar": 40
   },
   "kernels_config": {
    "python": {
     "delete_cmd_postfix": "",
     "delete_cmd_prefix": "del ",
     "library": "var_list.py",
     "varRefreshCmd": "print(var_dic_list())"
    },
    "r": {
     "delete_cmd_postfix": ") ",
     "delete_cmd_prefix": "rm(",
     "library": "var_list.r",
     "varRefreshCmd": "cat(var_dic_list()) "
    }
   },
   "types_to_exclude": [
    "module",
    "function",
    "builtin_function_or_method",
    "instance",
    "_Feature"
   ],
   "window_display": false
  }
 },
 "nbformat": 4,
 "nbformat_minor": 2
}
